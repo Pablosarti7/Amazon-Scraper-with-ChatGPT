{
  "nbformat": 4,
  "nbformat_minor": 0,
  "metadata": {
    "colab": {
      "provenance": [],
      "authorship_tag": "ABX9TyO21oYUovQL66Zondn6tngd"
    },
    "kernelspec": {
      "name": "python3",
      "display_name": "Python 3"
    },
    "language_info": {
      "name": "python"
    }
  },
  "cells": [
    {
      "cell_type": "code",
      "source": [
        "import pandas as pd\n",
        "import numpy as np\n",
        "from sklearn.feature_extraction.text import TfidfVectorizer\n",
        "from sklearn.metrics.pairwise import cosine_similarity\n",
        "import psycopg2"
      ],
      "metadata": {
        "id": "6S0hjGnmClRE"
      },
      "execution_count": null,
      "outputs": []
    },
    {
      "cell_type": "code",
      "source": [
        "from google.colab import userdata"
      ],
      "metadata": {
        "id": "YH-sxZVDycfX"
      },
      "execution_count": null,
      "outputs": []
    },
    {
      "cell_type": "markdown",
      "source": [
        "Will need a background worker to constantly check updates in the DB"
      ],
      "metadata": {
        "id": "Vo1kItsk4jSh"
      }
    },
    {
      "cell_type": "code",
      "source": [
        "# Connection parameters\n",
        "conn = psycopg2.connect(\n",
        "    dbname= userdata.get('DBNAME'),\n",
        "    user= userdata.get('USERNAME'),\n",
        "    password= userdata.get('PASSWORD'),\n",
        "    host= userdata.get('HOST'),\n",
        "    port= userdata.get('PORT'),\n",
        "    )"
      ],
      "metadata": {
        "id": "rhYydFxFvjP_"
      },
      "execution_count": null,
      "outputs": []
    },
    {
      "cell_type": "code",
      "source": [
        "myquery = \"SELECT * FROM foodproduct;\"\n",
        "products_df = pd.read_sql_query(myquery, conn)"
      ],
      "metadata": {
        "id": "S0YEm3Ktv166"
      },
      "execution_count": null,
      "outputs": []
    },
    {
      "cell_type": "code",
      "source": [
        "# Combine ingredients into a single string for each food item\n",
        "ingredient_corpus = products_df['ingredients']\n",
        "\n",
        "# Initialize TF-IDF Vectorizer\n",
        "vectorizer = TfidfVectorizer()\n",
        "\n",
        "# Fit and transform the ingredient lists\n",
        "tfidf_matrix = vectorizer.fit_transform(ingredient_corpus)\n",
        "\n",
        "# Check the matrix shape\n",
        "# print(\"TF-IDF Matrix Shape:\", tfidf_matrix.shape)"
      ],
      "metadata": {
        "colab": {
          "base_uri": "https://localhost:8080/"
        },
        "id": "ODsNbo_-wd7a",
        "outputId": "17a52975-e071-44a7-e8dc-a1c0cf414f5b"
      },
      "execution_count": null,
      "outputs": [
        {
          "output_type": "stream",
          "name": "stdout",
          "text": [
            "TF-IDF Matrix Shape: (17, 203)\n"
          ]
        }
      ]
    },
    {
      "cell_type": "code",
      "source": [
        "# Compute cosine similarity between all food items\n",
        "cosine_sim = cosine_similarity(tfidf_matrix)\n",
        "\n",
        "# Display the similarity matrix\n",
        "similarity_df = pd.DataFrame(cosine_sim, index=products_df['name'], columns=products_df['name'])"
      ],
      "metadata": {
        "id": "yJbGMrHI0jHx"
      },
      "execution_count": null,
      "outputs": []
    },
    {
      "cell_type": "code",
      "source": [
        "health_rating_to_score = {\n",
        "    'healthy': 2,\n",
        "    'neutral': 1,\n",
        "    'unhealthy': -1\n",
        "}"
      ],
      "metadata": {
        "id": "f3iGqZVHJwZE"
      },
      "execution_count": null,
      "outputs": []
    },
    {
      "cell_type": "code",
      "source": [
        "def get_health_scores_from_db(conn):\n",
        "    query = \"SELECT name, rating FROM ingredients;\"\n",
        "    ingredients_df = pd.read_sql_query(query, conn)\n",
        "\n",
        "    # Exclude unwanted names first\n",
        "    excluded_items = ['Sugar', 'Corn Syrup', 'Cane Sugar', 'Pure Cane Sugar', 'Coffee Caramelized Sugar', 'Corn']\n",
        "    filtered_df = ingredients_df[~ingredients_df['name'].isin(excluded_items)]\n",
        "\n",
        "    # Filter for healthy, neutral, and unhealthy ratings\n",
        "    filtered_df = filtered_df[\n",
        "        (filtered_df['rating'] == 'healthy') |\n",
        "        (filtered_df['rating'] == 'neutral') |\n",
        "        (filtered_df['rating'] == 'unhealthy')\n",
        "    ]\n",
        "\n",
        "    # Map health ratings to scores\n",
        "    filtered_df['health_score'] = filtered_df['rating'].map(health_rating_to_score)\n",
        "    return filtered_df.set_index('name')['health_score']\n",
        "\n",
        "\n",
        "health_scores = get_health_scores_from_db(conn)"
      ],
      "metadata": {
        "colab": {
          "base_uri": "https://localhost:8080/"
        },
        "id": "-5ALzPLPdlFb",
        "outputId": "f03546bc-727b-4b9e-b996-b20e88936b29"
      },
      "execution_count": null,
      "outputs": [
        {
          "output_type": "stream",
          "name": "stderr",
          "text": [
            "<ipython-input-8-48fca1fc3523>:3: UserWarning: pandas only supports SQLAlchemy connectable (engine/connection) or database string URI or sqlite3 DBAPI2 connection. Other DBAPI2 objects are not tested. Please consider using SQLAlchemy.\n",
            "  ingredients_df = pd.read_sql_query(query, conn)\n"
          ]
        }
      ]
    },
    {
      "cell_type": "code",
      "source": [
        "def calculate_health_score(ingredients, health_scores):\n",
        "    score = 0\n",
        "    for ingredient in ingredients.split(\", \"):\n",
        "        if ingredient not in health_scores:  # Skip if ingredient not found\n",
        "            return None  # Mark this row for exclusion\n",
        "        score += health_scores[ingredient]\n",
        "    return score\n",
        "\n",
        "# Apply to dataset\n",
        "products_df['health_score'] = products_df['ingredients'].apply(lambda x: calculate_health_score(x, health_scores))\n",
        "\n",
        "# Drop rows where health_score is None\n",
        "products_df = products_df.dropna(subset=['health_score'])"
      ],
      "metadata": {
        "id": "S-Npy5Egc4GI"
      },
      "execution_count": null,
      "outputs": []
    },
    {
      "cell_type": "code",
      "source": [
        "def recommend_healthier_food(item_name, top_n=3):\n",
        "    # Get the category of the scanned item\n",
        "    item_row = products_df[products_df['name'] == item_name].iloc[0]\n",
        "    print(item_row)\n",
        "    item_score = item_row['health_score']\n",
        "    item_category = item_row['category'].lower()\n",
        "    if pd.isna(item_score):\n",
        "        item_score = 0\n",
        "\n",
        "    # Filter for healthier items in the same category\n",
        "    healthier_items = products_df[(products_df['health_score'] > item_score) & (products_df['category'].str.lower() == item_category)]\n",
        "\n",
        "    # Compute similarity scores\n",
        "    sim_scores = similarity_df[item_name].loc[healthier_items['name']]\n",
        "\n",
        "    # Sort and return top recommendations\n",
        "    recommended_items = sim_scores.sort_values(ascending=False).iloc[:top_n]\n",
        "    return recommended_items\n",
        "\n",
        "# Example Usage\n",
        "recommendations = recommend_healthier_food(\"3\")\n",
        "print(\"Healthier Recommendations:\\n\", recommendations)"
      ],
      "metadata": {
        "id": "XqljYdrNgKwn"
      },
      "execution_count": null,
      "outputs": []
    },
    {
      "cell_type": "code",
      "source": [],
      "metadata": {
        "id": "ZMYkXDbizSlW"
      },
      "execution_count": null,
      "outputs": []
    }
  ]
}